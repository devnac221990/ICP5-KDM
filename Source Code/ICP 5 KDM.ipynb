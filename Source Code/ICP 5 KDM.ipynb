{
  "nbformat": 4,
  "nbformat_minor": 0,
  "metadata": {
    "colab": {
      "name": "Untitled19.ipynb",
      "provenance": [],
      "collapsed_sections": [],
      "authorship_tag": "ABX9TyNvRUjMYdfp0IKywzKQ0VWL",
      "include_colab_link": true
    },
    "kernelspec": {
      "name": "python3",
      "display_name": "Python 3"
    }
  },
  "cells": [
    {
      "cell_type": "markdown",
      "metadata": {
        "id": "view-in-github",
        "colab_type": "text"
      },
      "source": [
        "<a href=\"https://colab.research.google.com/github/devnac221990/ICP5-KDM/blob/main/ICP%205%20KDM.ipynb\" target=\"_parent\"><img src=\"https://colab.research.google.com/assets/colab-badge.svg\" alt=\"Open In Colab\"/></a>"
      ]
    },
    {
      "cell_type": "code",
      "metadata": {
        "colab": {
          "base_uri": "https://localhost:8080/"
        },
        "id": "0npoyP0NznGf",
        "outputId": "8f20f6ac-8c85-4d9e-ee9a-6861c80b5cf8"
      },
      "source": [
        "!pip install pyspark"
      ],
      "execution_count": 1,
      "outputs": [
        {
          "output_type": "stream",
          "text": [
            "Collecting pyspark\n",
            "\u001b[?25l  Downloading https://files.pythonhosted.org/packages/27/67/5158f846202d7f012d1c9ca21c3549a58fd3c6707ae8ee823adcaca6473c/pyspark-3.0.2.tar.gz (204.8MB)\n",
            "\u001b[K     |████████████████████████████████| 204.8MB 66kB/s \n",
            "\u001b[?25hCollecting py4j==0.10.9\n",
            "\u001b[?25l  Downloading https://files.pythonhosted.org/packages/9e/b6/6a4fb90cd235dc8e265a6a2067f2a2c99f0d91787f06aca4bcf7c23f3f80/py4j-0.10.9-py2.py3-none-any.whl (198kB)\n",
            "\u001b[K     |████████████████████████████████| 204kB 49.1MB/s \n",
            "\u001b[?25hBuilding wheels for collected packages: pyspark\n",
            "  Building wheel for pyspark (setup.py) ... \u001b[?25l\u001b[?25hdone\n",
            "  Created wheel for pyspark: filename=pyspark-3.0.2-py2.py3-none-any.whl size=205186687 sha256=ef720fbe17dab12bfd6b37906f0db6ca83435d25d9fb37e7bed4b94038eb9b32\n",
            "  Stored in directory: /root/.cache/pip/wheels/8b/09/da/c1f2859bcc86375dc972c5b6af4881b3603269bcc4c9be5d16\n",
            "Successfully built pyspark\n",
            "Installing collected packages: py4j, pyspark\n",
            "Successfully installed py4j-0.10.9 pyspark-3.0.2\n"
          ],
          "name": "stdout"
        }
      ]
    },
    {
      "cell_type": "code",
      "metadata": {
        "id": "LQkzOdwL03lA"
      },
      "source": [
        "from __future__ import print_function\r\n",
        "from pyspark import SparkConf, SparkContext\r\n",
        "from pyspark.ml.feature import HashingTF, IDF, Tokenizer\r\n",
        "from pyspark.sql import SparkSession\r\n",
        "from pyspark.ml.feature import NGram\r\n",
        "from pyspark.ml.feature import Word2Vec"
      ],
      "execution_count": 2,
      "outputs": []
    },
    {
      "cell_type": "code",
      "metadata": {
        "id": "xe6Czk0g1nIi"
      },
      "source": [
        "spark = SparkSession.builder \\\r\n",
        "          .appName(\"tfidf ICP\") \\\r\n",
        "          .config(\"spark.some.config.option\", \"some-value\") \\\r\n",
        "          .getOrCreate()"
      ],
      "execution_count": 3,
      "outputs": []
    },
    {
      "cell_type": "code",
      "metadata": {
        "colab": {
          "base_uri": "https://localhost:8080/"
        },
        "id": "lbYRtfmc10BR",
        "outputId": "cb1bc42a-a3de-406c-cbd8-c204914018e5"
      },
      "source": [
        "import pandas as pd\r\n",
        "pdf = pd.DataFrame({\r\n",
        "        'terms': [\r\n",
        "            ['spark', 'spark', 'spark', 'is', 'awesome', 'awesome'],\r\n",
        "            ['I', 'love', 'spark', 'very', 'very', 'much'],\r\n",
        "            ['everyone', 'should', 'use', 'spark'],\r\n",
        "            ['life','is','very','good'],\r\n",
        "            ['it', 'is', 'too', 'cold' ]\r\n",
        "        ]\r\n",
        "    })\r\n",
        "df = spark.createDataFrame(pdf)\r\n",
        "df.show(truncate=False)"
      ],
      "execution_count": 34,
      "outputs": [
        {
          "output_type": "stream",
          "text": [
            "+-------------------------------------------+\n",
            "|terms                                      |\n",
            "+-------------------------------------------+\n",
            "|[spark, spark, spark, is, awesome, awesome]|\n",
            "|[I, love, spark, very, very, much]         |\n",
            "|[everyone, should, use, spark]             |\n",
            "|[life, is, very, good]                     |\n",
            "|[it, is, too, cold]                        |\n",
            "+-------------------------------------------+\n",
            "\n"
          ],
          "name": "stdout"
        }
      ]
    },
    {
      "cell_type": "code",
      "metadata": {
        "id": "OCHIc9c_35t2"
      },
      "source": [
        "from pyspark.ml.feature import HashingTF\r\n",
        "from pyspark.ml import Pipeline\r\n",
        "\r\n",
        "hashtf = HashingTF(numFeatures=pow(2, 4), inputCol='terms', outputCol='features(numFeatures), [index], [term frequency]')\r\n",
        "stages = [hashtf]\r\n",
        "pipeline = Pipeline(stages=stages)"
      ],
      "execution_count": 5,
      "outputs": []
    },
    {
      "cell_type": "code",
      "metadata": {
        "colab": {
          "base_uri": "https://localhost:8080/"
        },
        "id": "VAFEtFx84IdW",
        "outputId": "d068c852-3b3c-4fc0-e160-a4ccc8477e9b"
      },
      "source": [
        "pipeline.fit(df).transform(df).show(truncate=False)"
      ],
      "execution_count": 14,
      "outputs": [
        {
          "output_type": "stream",
          "text": [
            "+-------------------------------------------+----------------------------------------------+\n",
            "|terms                                      |features(vocabSize), [index], [term frequency]|\n",
            "+-------------------------------------------+----------------------------------------------+\n",
            "|[spark, spark, spark, is, awesome, awesome]|(15,[0,2,3],[3.0,1.0,2.0])                    |\n",
            "|[I, love, spark, very, very, much]         |(15,[0,1,5,10,12],[1.0,2.0,1.0,1.0,1.0])      |\n",
            "|[everyone, should, use, spark]             |(15,[0,6,7,11],[1.0,1.0,1.0,1.0])             |\n",
            "|[life, is, very, good]                     |(15,[1,2,8,13],[1.0,1.0,1.0,1.0])             |\n",
            "|[it, is, too, cold]                        |(15,[2,4,9,14],[1.0,1.0,1.0,1.0])             |\n",
            "+-------------------------------------------+----------------------------------------------+\n",
            "\n"
          ],
          "name": "stdout"
        }
      ]
    },
    {
      "cell_type": "code",
      "metadata": {
        "id": "q5PiTbM74IVs"
      },
      "source": [
        "from pyspark.ml.feature import CountVectorizer\r\n",
        "from pyspark.ml import Pipeline\r\n",
        "\r\n",
        "countvectorizer = CountVectorizer(minTF=1.0, minDF=1.0, vocabSize=20, \r\n",
        "                                  inputCol='terms', outputCol='features(vocabSize), [index], [term frequency]')\r\n",
        "stages = [countvectorizer]\r\n",
        "pipeline = Pipeline(stages=stages)"
      ],
      "execution_count": 28,
      "outputs": []
    },
    {
      "cell_type": "code",
      "metadata": {
        "colab": {
          "base_uri": "https://localhost:8080/"
        },
        "id": "NamdCE-Q4U0l",
        "outputId": "34a5b8b3-d303-4beb-9dce-4b00715f71b2"
      },
      "source": [
        "pipeline.fit(df).transform(df).show(truncate=False)"
      ],
      "execution_count": 116,
      "outputs": [
        {
          "output_type": "stream",
          "text": [
            "+----------------------------------------+----------------------------------------------+\n",
            "|terms                                   |features(vocabSize), [index], [term frequency]|\n",
            "+----------------------------------------+----------------------------------------------+\n",
            "|[life, be, good]                        |(16,[0,9,14],[1.0,1.0,1.0])                   |\n",
            "|[student, should, love, coding]         |(16,[1,6,8,13],[1.0,1.0,1.0,1.0])             |\n",
            "|[everyone, should, be, code]            |(16,[0,1,4,7],[1.0,1.0,1.0,1.0])              |\n",
            "|[programming, be, the, basic, education]|(16,[0,2,11,12,15],[1.0,1.0,1.0,1.0,1.0])     |\n",
            "|[the, temperature, be, below, freeze]   |(16,[0,2,3,5,10],[1.0,1.0,1.0,1.0,1.0])       |\n",
            "+----------------------------------------+----------------------------------------------+\n",
            "\n"
          ],
          "name": "stdout"
        }
      ]
    },
    {
      "cell_type": "code",
      "metadata": {
        "colab": {
          "base_uri": "https://localhost:8080/"
        },
        "id": "2kCYS-6U4lUa",
        "outputId": "f028f01f-c618-43aa-c028-e947362fcdae"
      },
      "source": [
        "from pyspark.sql.types import StringType\r\n",
        "df_vocab = df.select('terms').rdd.\\\r\n",
        "            flatMap(lambda x: x[0]).\\\r\n",
        "            toDF(schema=StringType()).toDF('terms')\r\n",
        "df_vocab.show()"
      ],
      "execution_count": 117,
      "outputs": [
        {
          "output_type": "stream",
          "text": [
            "+-----------+\n",
            "|      terms|\n",
            "+-----------+\n",
            "|       life|\n",
            "|         be|\n",
            "|       good|\n",
            "|    student|\n",
            "|     should|\n",
            "|       love|\n",
            "|     coding|\n",
            "|   everyone|\n",
            "|     should|\n",
            "|         be|\n",
            "|       code|\n",
            "|programming|\n",
            "|         be|\n",
            "|        the|\n",
            "|      basic|\n",
            "|  education|\n",
            "|        the|\n",
            "|temperature|\n",
            "|         be|\n",
            "|      below|\n",
            "+-----------+\n",
            "only showing top 20 rows\n",
            "\n"
          ],
          "name": "stdout"
        }
      ]
    },
    {
      "cell_type": "code",
      "metadata": {
        "colab": {
          "base_uri": "https://localhost:8080/"
        },
        "id": "KhH3dtKj6mnN",
        "outputId": "f59c371e-6b36-437e-e360-9b2a885b58ea"
      },
      "source": [
        "vocab_freq = df_vocab.rdd.countByValue()\r\n",
        "pdf = pd.DataFrame({\r\n",
        "        'term': list(vocab_freq.keys()),\r\n",
        "        'frequency': list(vocab_freq.values())\r\n",
        "    })\r\n",
        "pdf\r\n",
        "tf = spark.createDataFrame(pdf).orderBy('frequency', ascending=False)\r\n",
        "tf.show()"
      ],
      "execution_count": 31,
      "outputs": [
        {
          "output_type": "stream",
          "text": [
            "+----------+---------+\n",
            "|      term|frequency|\n",
            "+----------+---------+\n",
            "|   [spark]|        5|\n",
            "|      [is]|        3|\n",
            "|    [very]|        3|\n",
            "| [awesome]|        2|\n",
            "|       [I]|        1|\n",
            "|[everyone]|        1|\n",
            "|    [love]|        1|\n",
            "|  [should]|        1|\n",
            "|     [use]|        1|\n",
            "|    [good]|        1|\n",
            "|    [much]|        1|\n",
            "|    [life]|        1|\n",
            "|      [it]|        1|\n",
            "|     [too]|        1|\n",
            "|    [cold]|        1|\n",
            "+----------+---------+\n",
            "\n"
          ],
          "name": "stdout"
        }
      ]
    },
    {
      "cell_type": "code",
      "metadata": {
        "id": "aC185VOgWoks"
      },
      "source": [
        "spark3 = SparkSession.builder.appName(\"Word2Vec Example\").getOrCreate()"
      ],
      "execution_count": 118,
      "outputs": []
    },
    {
      "cell_type": "code",
      "metadata": {
        "id": "kBqXHFtncKd7"
      },
      "source": [
        "# Input data: Each row is a bag of words from a sentence or document.\r\n",
        "documentDF = spark3.createDataFrame([\r\n",
        "    (\"spark spark spark is awesome awesome.\".split(\" \"), ),\r\n",
        "    (\"I love spark very very much.\".split(\" \"), ),\r\n",
        "    (\"everyone should use spark.\".split(\" \"), ),\r\n",
        "    (\"life is very good\".split(\" \"), ),\r\n",
        "    (\"it is too cold.\".split(\" \"), )\r\n",
        "], [\"text\"])"
      ],
      "execution_count": 119,
      "outputs": []
    },
    {
      "cell_type": "code",
      "metadata": {
        "id": "hRC9b5S2W6e9"
      },
      "source": [
        "# Learn a mapping from words to Vectors.\r\n",
        "word2Vec = Word2Vec(vectorSize=3, minCount=0, inputCol=\"text\", outputCol=\"result\")\r\n",
        "model = word2Vec.fit(documentDF)\r\n",
        "result = model.transform(documentDF)"
      ],
      "execution_count": 120,
      "outputs": []
    },
    {
      "cell_type": "code",
      "metadata": {
        "colab": {
          "base_uri": "https://localhost:8080/"
        },
        "id": "C4jbUIHGc59K",
        "outputId": "cf025e0a-1b30-4df9-943e-01357f2b4482"
      },
      "source": [
        "for row in result.collect():\r\n",
        "    text, vector = row\r\n",
        "    #printing the results\r\n",
        "    print(\"Text: [%s] => \\nVector: %s\\n\" % (\", \".join(text), str(vector)))"
      ],
      "execution_count": 121,
      "outputs": [
        {
          "output_type": "stream",
          "text": [
            "Text: [spark, spark, spark, is, awesome, awesome.] => \n",
            "Vector: [-0.03233379746476809,0.07991064277788003,-0.12412767360607782]\n",
            "\n",
            "Text: [I, love, spark, very, very, much.] => \n",
            "Vector: [-0.08162251487374306,-0.07343332651847352,-0.1039524401227633]\n",
            "\n",
            "Text: [everyone, should, use, spark.] => \n",
            "Vector: [0.056249113753437996,0.005625518970191479,-0.01240360178053379]\n",
            "\n",
            "Text: [life, is, very, good] => \n",
            "Vector: [-0.04824359342455864,0.0063680075109004974,-0.0043945712968707085]\n",
            "\n",
            "Text: [it, is, too, cold.] => \n",
            "Vector: [-0.01781434239819646,0.012281995266675949,-0.02408296149224043]\n",
            "\n"
          ],
          "name": "stdout"
        }
      ]
    },
    {
      "cell_type": "code",
      "metadata": {
        "colab": {
          "base_uri": "https://localhost:8080/"
        },
        "id": "VsbhOp3lc_d_",
        "outputId": "6807053b-0e15-40d9-9896-83c9a69cbe5f"
      },
      "source": [
        "# showing the synonyms and cosine similarity of the word in input data\r\n",
        "synonyms = model.findSynonyms(\"spark\", 5)   # its okay for certain words , real bad for others\r\n",
        "synonyms.show(5)"
      ],
      "execution_count": 122,
      "outputs": [
        {
          "output_type": "stream",
          "text": [
            "+--------+------------------+\n",
            "|    word|        similarity|\n",
            "+--------+------------------+\n",
            "|  spark.|0.9528490900993347|\n",
            "|      is|0.9438766241073608|\n",
            "|    love|0.8344047665596008|\n",
            "|     too|0.6483806371688843|\n",
            "|awesome.| 0.484557569026947|\n",
            "+--------+------------------+\n",
            "\n"
          ],
          "name": "stdout"
        }
      ]
    },
    {
      "cell_type": "code",
      "metadata": {
        "colab": {
          "base_uri": "https://localhost:8080/"
        },
        "id": "kr8tedxadCbo",
        "outputId": "5827d60b-4be2-4de4-fc3b-ecf7d7d342cd"
      },
      "source": [
        "# showing the synonyms and cosine similarity of the word in input data\r\n",
        "synonyms = model.findSynonyms(\"is\", 5)   # its okay for certain words , real bad for others\r\n",
        "synonyms.show(5)"
      ],
      "execution_count": 123,
      "outputs": [
        {
          "output_type": "stream",
          "text": [
            "+------+------------------+\n",
            "|  word|        similarity|\n",
            "+------+------------------+\n",
            "|spark.|0.9786363840103149|\n",
            "|  love|0.9445621967315674|\n",
            "| spark|0.9438766837120056|\n",
            "|     I|0.5885893702507019|\n",
            "|   too|0.5793203115463257|\n",
            "+------+------------------+\n",
            "\n"
          ],
          "name": "stdout"
        }
      ]
    },
    {
      "cell_type": "code",
      "metadata": {
        "colab": {
          "base_uri": "https://localhost:8080/"
        },
        "id": "Qi3uVhxCdLto",
        "outputId": "beac2e8f-55fc-4da6-d54c-fbe12daa80e7"
      },
      "source": [
        "# showing the synonyms and cosine similarity of the word in input data\r\n",
        "synonyms = model.findSynonyms(\"very\", 5)   # its okay for certain words , real bad for others\r\n",
        "synonyms.show(5)"
      ],
      "execution_count": 124,
      "outputs": [
        {
          "output_type": "stream",
          "text": [
            "+------+-------------------+\n",
            "|  word|         similarity|\n",
            "+------+-------------------+\n",
            "|     I| 0.9961175322532654|\n",
            "|  love| 0.6879690885543823|\n",
            "|    is| 0.5169904232025146|\n",
            "|spark.|0.46952128410339355|\n",
            "|    it|0.39674097299575806|\n",
            "+------+-------------------+\n",
            "\n"
          ],
          "name": "stdout"
        }
      ]
    },
    {
      "cell_type": "code",
      "metadata": {
        "colab": {
          "base_uri": "https://localhost:8080/"
        },
        "id": "BlymC-n3dS-L",
        "outputId": "4123f836-07be-4cf5-f8cc-fff5acd97863"
      },
      "source": [
        "# showing the synonyms and cosine similarity of the word in input data\r\n",
        "synonyms = model.findSynonyms(\"awesome\", 5)   # its okay for certain words , real bad for others\r\n",
        "synonyms.show(5)"
      ],
      "execution_count": 125,
      "outputs": [
        {
          "output_type": "stream",
          "text": [
            "+--------+------------------+\n",
            "|    word|        similarity|\n",
            "+--------+------------------+\n",
            "|     use|0.9864492416381836|\n",
            "|awesome.|0.9357233643531799|\n",
            "|    good|0.5822964310646057|\n",
            "|   much.|0.5262214541435242|\n",
            "|      it|0.3276222348213196|\n",
            "+--------+------------------+\n",
            "\n"
          ],
          "name": "stdout"
        }
      ]
    },
    {
      "cell_type": "code",
      "metadata": {
        "colab": {
          "base_uri": "https://localhost:8080/"
        },
        "id": "FbvS7t2Tduvk",
        "outputId": "e9681915-0d9a-4422-dcbe-612d12d99d2a"
      },
      "source": [
        "# showing the synonyms and cosine similarity of the word in input data\r\n",
        "synonyms = model.findSynonyms(\"everyone\", 5)   # its okay for certain words , real bad for others\r\n",
        "synonyms.show(5)"
      ],
      "execution_count": 126,
      "outputs": [
        {
          "output_type": "stream",
          "text": [
            "+------+-------------------+\n",
            "|  word|         similarity|\n",
            "+------+-------------------+\n",
            "|should|  0.895369291305542|\n",
            "|  good|  0.589941143989563|\n",
            "| much.| 0.4466019570827484|\n",
            "|    it| 0.4165970981121063|\n",
            "| cold.|0.04272148385643959|\n",
            "+------+-------------------+\n",
            "\n"
          ],
          "name": "stdout"
        }
      ]
    },
    {
      "cell_type": "code",
      "metadata": {
        "colab": {
          "base_uri": "https://localhost:8080/"
        },
        "id": "0yQiyilceKAf",
        "outputId": "77504d06-8012-405a-f2fb-3b2f3a00d904"
      },
      "source": [
        "# showing the synonyms and cosine similarity of the word in input data\r\n",
        "synonyms = model.findSynonyms(\"love\", 5)   # its okay for certain words , real bad for others\r\n",
        "synonyms.show(5)"
      ],
      "execution_count": 127,
      "outputs": [
        {
          "output_type": "stream",
          "text": [
            "+------+------------------+\n",
            "|  word|        similarity|\n",
            "+------+------------------+\n",
            "|spark.|0.9609439969062805|\n",
            "|    is|0.9445623159408569|\n",
            "| spark|0.8344048857688904|\n",
            "|     I|0.7400961518287659|\n",
            "|  very|0.6879690885543823|\n",
            "+------+------------------+\n",
            "\n"
          ],
          "name": "stdout"
        }
      ]
    },
    {
      "cell_type": "code",
      "metadata": {
        "colab": {
          "base_uri": "https://localhost:8080/"
        },
        "id": "SIegARE6eMx5",
        "outputId": "dabae8b5-989b-444d-9e3f-681f63921266"
      },
      "source": [
        "# showing the synonyms and cosine similarity of the word in input data\r\n",
        "synonyms = model.findSynonyms(\"I\", 5)   # its okay for certain words , real bad for others\r\n",
        "synonyms.show(5)"
      ],
      "execution_count": 132,
      "outputs": [
        {
          "output_type": "stream",
          "text": [
            "+------+-------------------+\n",
            "|  word|         similarity|\n",
            "+------+-------------------+\n",
            "|  very| 0.9961175322532654|\n",
            "|  love| 0.7400961518287659|\n",
            "|    is| 0.5885894894599915|\n",
            "|spark.| 0.5378295183181763|\n",
            "|    it|0.33645814657211304|\n",
            "+------+-------------------+\n",
            "\n"
          ],
          "name": "stdout"
        }
      ]
    },
    {
      "cell_type": "code",
      "metadata": {
        "colab": {
          "base_uri": "https://localhost:8080/"
        },
        "id": "WRe5el1XeQIz",
        "outputId": "e00d8c24-d2fb-44b8-bca2-99c0eb82add3"
      },
      "source": [
        "# showing the synonyms and cosine similarity of the word in input data\r\n",
        "synonyms = model.findSynonyms(\"good\", 5)   # its okay for certain words , real bad for others\r\n",
        "synonyms.show(5)"
      ],
      "execution_count": 128,
      "outputs": [
        {
          "output_type": "stream",
          "text": [
            "+--------+-------------------+\n",
            "|    word|         similarity|\n",
            "+--------+-------------------+\n",
            "|  should| 0.7369943261146545|\n",
            "|     use| 0.6675746440887451|\n",
            "|everyone| 0.5899412035942078|\n",
            "| awesome| 0.5822964310646057|\n",
            "|   cold.|0.48677951097488403|\n",
            "+--------+-------------------+\n",
            "\n"
          ],
          "name": "stdout"
        }
      ]
    },
    {
      "cell_type": "code",
      "metadata": {
        "colab": {
          "base_uri": "https://localhost:8080/"
        },
        "id": "XXgnsMEWebiS",
        "outputId": "e5fc0aa6-eec3-4b04-acb6-e6914d3f1f4d"
      },
      "source": [
        "# showing the synonyms and cosine similarity of the word in input data\r\n",
        "synonyms = model.findSynonyms(\"use\", 5)   # its okay for certain words , real bad for others\r\n",
        "synonyms.show(5)"
      ],
      "execution_count": 134,
      "outputs": [
        {
          "output_type": "stream",
          "text": [
            "+--------+------------------+\n",
            "|    word|        similarity|\n",
            "+--------+------------------+\n",
            "| awesome|0.9864492416381836|\n",
            "|awesome.|0.8725539445877075|\n",
            "|    good|0.6675746440887451|\n",
            "|   much.|0.4450313448905945|\n",
            "|   cold.|0.2677077054977417|\n",
            "+--------+------------------+\n",
            "\n"
          ],
          "name": "stdout"
        }
      ]
    },
    {
      "cell_type": "code",
      "metadata": {
        "colab": {
          "base_uri": "https://localhost:8080/"
        },
        "id": "2w3qVzqtedUj",
        "outputId": "b33cef71-b107-4a51-f1e8-a500b185eaab"
      },
      "source": [
        "# showing the synonyms and cosine similarity of the word in input data\r\n",
        "synonyms = model.findSynonyms(\"should\", 5)   # its okay for certain words , real bad for others\r\n",
        "synonyms.show(5)"
      ],
      "execution_count": 135,
      "outputs": [
        {
          "output_type": "stream",
          "text": [
            "+--------+-------------------+\n",
            "|    word|         similarity|\n",
            "+--------+-------------------+\n",
            "|everyone|  0.895369291305542|\n",
            "|    good| 0.7369943857192993|\n",
            "|   cold.| 0.4831452965736389|\n",
            "|   much.|0.15484245121479034|\n",
            "|      it|0.04120621830224991|\n",
            "+--------+-------------------+\n",
            "\n"
          ],
          "name": "stdout"
        }
      ]
    },
    {
      "cell_type": "code",
      "metadata": {
        "id": "i8ropCnm8Bzt"
      },
      "source": [
        "spark2 = SparkSession.builder.appName(\"Ngram Example\").getOrCreate()"
      ],
      "execution_count": 39,
      "outputs": []
    },
    {
      "cell_type": "code",
      "metadata": {
        "id": "PoghjyZ_6tXY"
      },
      "source": [
        " wordDataFrame = spark2.createDataFrame([\r\n",
        " (0, ['spark', 'spark', 'spark', 'is', 'awesome', 'awesome']),\r\n",
        "            (1, ['I', 'love', 'spark', 'very', 'very', 'much']),\r\n",
        "            (2, ['everyone', 'should', 'use', 'spark']),\r\n",
        "            (3, ['life','is','very','good']),\r\n",
        "            (4, ['it', 'is', 'too', 'cold' ])], ['id', 'words'])"
      ],
      "execution_count": 44,
      "outputs": []
    },
    {
      "cell_type": "code",
      "metadata": {
        "id": "8Xnz2_iOQ_xO"
      },
      "source": [
        "#creating NGrams with n=2 (two words)\r\n",
        "ngram = NGram(n=2, inputCol=\"words\", outputCol=\"ngrams\")\r\n",
        "ngramDataFrame = ngram.transform(wordDataFrame)"
      ],
      "execution_count": 46,
      "outputs": []
    },
    {
      "cell_type": "code",
      "metadata": {
        "colab": {
          "base_uri": "https://localhost:8080/"
        },
        "id": "nwx0LKtm9nBX",
        "outputId": "dec87e55-a6bf-4bc3-d3af-d4282f85f183"
      },
      "source": [
        "ngramDataFrame.select(\"ngrams\").show(truncate=False)"
      ],
      "execution_count": 47,
      "outputs": [
        {
          "output_type": "stream",
          "text": [
            "+-----------------------------------------------------------------+\n",
            "|ngrams                                                           |\n",
            "+-----------------------------------------------------------------+\n",
            "|[spark spark, spark spark, spark is, is awesome, awesome awesome]|\n",
            "|[I love, love spark, spark very, very very, very much]           |\n",
            "|[everyone should, should use, use spark]                         |\n",
            "|[life is, is very, very good]                                    |\n",
            "|[it is, is too, too cold]                                        |\n",
            "+-----------------------------------------------------------------+\n",
            "\n"
          ],
          "name": "stdout"
        }
      ]
    },
    {
      "cell_type": "code",
      "metadata": {
        "colab": {
          "base_uri": "https://localhost:8080/"
        },
        "id": "-YGtor3M-BwV",
        "outputId": "301ac547-57c1-4247-bd5d-ca9da07fc5fa"
      },
      "source": [
        "import pandas as pd\r\n",
        "pdf = pd.DataFrame({\r\n",
        "        'terms': [\r\n",
        "            ['spark', 'spark', 'spark', 'spark', 'spark', 'is', 'is', 'awesome', 'awesome', 'awesome'],\r\n",
        "            ['I', 'love', 'love', 'spark', 'spark', 'very', 'very', 'very', 'very', 'much'],\r\n",
        "            ['everyone', 'should', 'should', 'use', 'use', 'spark'],\r\n",
        "            ['life', 'is', 'is', 'very', 'very', 'good'],\r\n",
        "            ['it', 'is', 'is', 'too', 'too', 'cold']\r\n",
        "        ]\r\n",
        "    })\r\n",
        "df = spark.createDataFrame(pdf)\r\n",
        "df.show(truncate=False)"
      ],
      "execution_count": 52,
      "outputs": [
        {
          "output_type": "stream",
          "text": [
            "+----------------------------------------------------------------------+\n",
            "|terms                                                                 |\n",
            "+----------------------------------------------------------------------+\n",
            "|[spark, spark, spark, spark, spark, is, is, awesome, awesome, awesome]|\n",
            "|[I, love, love, spark, spark, very, very, very, very, much]           |\n",
            "|[everyone, should, should, use, use, spark]                           |\n",
            "|[life, is, is, very, very, good]                                      |\n",
            "|[it, is, is, too, too, cold]                                          |\n",
            "+----------------------------------------------------------------------+\n",
            "\n"
          ],
          "name": "stdout"
        }
      ]
    },
    {
      "cell_type": "code",
      "metadata": {
        "id": "ANWZYcg7ApwV"
      },
      "source": [
        "from pyspark.ml.feature import HashingTF\r\n",
        "from pyspark.ml import Pipeline\r\n",
        "\r\n",
        "hashtf = HashingTF(numFeatures=pow(2, 4), inputCol='terms', outputCol='features(numFeatures), [index], [term frequency]')\r\n",
        "stages = [hashtf]\r\n",
        "pipeline = Pipeline(stages=stages)"
      ],
      "execution_count": 53,
      "outputs": []
    },
    {
      "cell_type": "code",
      "metadata": {
        "colab": {
          "base_uri": "https://localhost:8080/"
        },
        "id": "Pkz2bRudAq1e",
        "outputId": "cb3411ce-6921-44b0-d1ff-7499a0b9bcb1"
      },
      "source": [
        "pipeline.fit(df).transform(df).show(truncate=False)"
      ],
      "execution_count": 54,
      "outputs": [
        {
          "output_type": "stream",
          "text": [
            "+----------------------------------------------------------------------+------------------------------------------------+\n",
            "|terms                                                                 |features(numFeatures), [index], [term frequency]|\n",
            "+----------------------------------------------------------------------+------------------------------------------------+\n",
            "|[spark, spark, spark, spark, spark, is, is, awesome, awesome, awesome]|(16,[6,9],[5.0,5.0])                            |\n",
            "|[I, love, love, spark, spark, very, very, very, very, much]           |(16,[0,6,8,12],[2.0,2.0,4.0,2.0])               |\n",
            "|[everyone, should, should, use, use, spark]                           |(16,[5,6,13],[2.0,1.0,3.0])                     |\n",
            "|[life, is, is, very, very, good]                                      |(16,[5,8,9],[1.0,3.0,2.0])                      |\n",
            "|[it, is, is, too, too, cold]                                          |(16,[0,3,6,9],[1.0,2.0,1.0,2.0])                |\n",
            "+----------------------------------------------------------------------+------------------------------------------------+\n",
            "\n"
          ],
          "name": "stdout"
        }
      ]
    },
    {
      "cell_type": "code",
      "metadata": {
        "id": "qNrSBA4pAuCt"
      },
      "source": [
        "from pyspark.ml.feature import CountVectorizer\r\n",
        "from pyspark.ml import Pipeline\r\n",
        "\r\n",
        "countvectorizer = CountVectorizer(minTF=1.0, minDF=1.0, vocabSize=20, \r\n",
        "                                  inputCol='terms', outputCol='features(vocabSize), [index], [term frequency]')\r\n",
        "stages = [countvectorizer]\r\n",
        "pipeline = Pipeline(stages=stages)"
      ],
      "execution_count": 55,
      "outputs": []
    },
    {
      "cell_type": "code",
      "metadata": {
        "colab": {
          "base_uri": "https://localhost:8080/"
        },
        "id": "JyCr1uvkBFPD",
        "outputId": "ef7c6712-7d70-43d8-c613-de7b1ef4d6f6"
      },
      "source": [
        "pipeline.fit(df).transform(df).show(truncate=False)"
      ],
      "execution_count": 56,
      "outputs": [
        {
          "output_type": "stream",
          "text": [
            "+----------------------------------------------------------------------+----------------------------------------------+\n",
            "|terms                                                                 |features(vocabSize), [index], [term frequency]|\n",
            "+----------------------------------------------------------------------+----------------------------------------------+\n",
            "|[spark, spark, spark, spark, spark, is, is, awesome, awesome, awesome]|(15,[0,2,3],[5.0,2.0,3.0])                    |\n",
            "|[I, love, love, spark, spark, very, very, very, very, much]           |(15,[0,1,6,9,10],[2.0,4.0,2.0,1.0,1.0])       |\n",
            "|[everyone, should, should, use, use, spark]                           |(15,[0,4,5,11],[1.0,2.0,2.0,1.0])             |\n",
            "|[life, is, is, very, very, good]                                      |(15,[1,2,12,14],[2.0,2.0,1.0,1.0])            |\n",
            "|[it, is, is, too, too, cold]                                          |(15,[2,7,8,13],[2.0,2.0,1.0,1.0])             |\n",
            "+----------------------------------------------------------------------+----------------------------------------------+\n",
            "\n"
          ],
          "name": "stdout"
        }
      ]
    },
    {
      "cell_type": "code",
      "metadata": {
        "colab": {
          "base_uri": "https://localhost:8080/"
        },
        "id": "NrlfJKdbBIKl",
        "outputId": "2c630648-fa62-4320-a135-c80a8762b432"
      },
      "source": [
        "from pyspark.sql.types import StringType\r\n",
        "df_vocab = df.select('terms').rdd.\\\r\n",
        "            flatMap(lambda x: x[0]).\\\r\n",
        "            toDF(schema=StringType()).toDF('terms')\r\n",
        "df_vocab.show()"
      ],
      "execution_count": 57,
      "outputs": [
        {
          "output_type": "stream",
          "text": [
            "+-------+\n",
            "|  terms|\n",
            "+-------+\n",
            "|  spark|\n",
            "|  spark|\n",
            "|  spark|\n",
            "|  spark|\n",
            "|  spark|\n",
            "|     is|\n",
            "|     is|\n",
            "|awesome|\n",
            "|awesome|\n",
            "|awesome|\n",
            "|      I|\n",
            "|   love|\n",
            "|   love|\n",
            "|  spark|\n",
            "|  spark|\n",
            "|   very|\n",
            "|   very|\n",
            "|   very|\n",
            "|   very|\n",
            "|   much|\n",
            "+-------+\n",
            "only showing top 20 rows\n",
            "\n"
          ],
          "name": "stdout"
        }
      ]
    },
    {
      "cell_type": "code",
      "metadata": {
        "colab": {
          "base_uri": "https://localhost:8080/"
        },
        "id": "BbE7kgo7BMfw",
        "outputId": "75de7301-63fa-444c-e46f-448a2f57f0ac"
      },
      "source": [
        "vocab_freq = df_vocab.rdd.countByValue()\r\n",
        "pdf = pd.DataFrame({\r\n",
        "        'term': list(vocab_freq.keys()),\r\n",
        "        'frequency': list(vocab_freq.values())\r\n",
        "    })\r\n",
        "pdf\r\n",
        "tf = spark.createDataFrame(pdf).orderBy('frequency', ascending=False)\r\n",
        "tf.show()"
      ],
      "execution_count": 58,
      "outputs": [
        {
          "output_type": "stream",
          "text": [
            "+----------+---------+\n",
            "|      term|frequency|\n",
            "+----------+---------+\n",
            "|   [spark]|        8|\n",
            "|      [is]|        6|\n",
            "|    [very]|        6|\n",
            "| [awesome]|        3|\n",
            "|  [should]|        2|\n",
            "|     [too]|        2|\n",
            "|    [love]|        2|\n",
            "|     [use]|        2|\n",
            "|       [I]|        1|\n",
            "|[everyone]|        1|\n",
            "|    [much]|        1|\n",
            "|    [life]|        1|\n",
            "|    [good]|        1|\n",
            "|      [it]|        1|\n",
            "|    [cold]|        1|\n",
            "+----------+---------+\n",
            "\n"
          ],
          "name": "stdout"
        }
      ]
    },
    {
      "cell_type": "code",
      "metadata": {
        "id": "tC9GwK3Zgvlo"
      },
      "source": [
        "spark4 = SparkSession.builder.appName(\"Word2Vec Example\").getOrCreate()"
      ],
      "execution_count": 136,
      "outputs": []
    },
    {
      "cell_type": "code",
      "metadata": {
        "id": "dAO553DYgxov"
      },
      "source": [
        "# Input data: Each row is a bag of words from a sentence or document.\r\n",
        "documentDF = spark3.createDataFrame([\r\n",
        "    (\"spark spark spark spark spark is is awesome awesome awesome\".split(\" \"), ),\r\n",
        "    (\"I love love spark spark very very very very much.\".split(\" \"), ),\r\n",
        "    (\"everyone should should use use spark\".split(\" \"), ),\r\n",
        "    (\"life is is very very good\".split(\" \"), ),\r\n",
        "    (\"it is is too too cold\".split(\" \"), )\r\n",
        "], [\"text\"])"
      ],
      "execution_count": 137,
      "outputs": []
    },
    {
      "cell_type": "code",
      "metadata": {
        "id": "9-wk4v0ah1IO"
      },
      "source": [
        "# Learn a mapping from words to Vectors.\r\n",
        "word2Vec = Word2Vec(vectorSize=3, minCount=0, inputCol=\"text\", outputCol=\"result\")\r\n",
        "model = word2Vec.fit(documentDF)\r\n",
        "result = model.transform(documentDF)"
      ],
      "execution_count": 139,
      "outputs": []
    },
    {
      "cell_type": "code",
      "metadata": {
        "colab": {
          "base_uri": "https://localhost:8080/"
        },
        "id": "J-420Y5Xg0NI",
        "outputId": "ce45d80c-a491-4e33-c216-5e47ae3c7e7e"
      },
      "source": [
        "for row in result.collect():\r\n",
        "    text, vector = row\r\n",
        "    #printing the results\r\n",
        "    print(\"Text: [%s] => \\nVector: %s\\n\" % (\", \".join(text), str(vector)))"
      ],
      "execution_count": 140,
      "outputs": [
        {
          "output_type": "stream",
          "text": [
            "Text: [spark, spark, spark, spark, spark, is, is, awesome, awesome, awesome] => \n",
            "Vector: [-0.11181261017918587,0.05737618284765631,-0.12805816382169724]\n",
            "\n",
            "Text: [I, love, love, spark, spark, very, very, very, very, much.] => \n",
            "Vector: [-0.0714676357805729,-0.005499726347625256,-0.04653551112860441]\n",
            "\n",
            "Text: [everyone, should, should, use, use, spark] => \n",
            "Vector: [0.042961226776242256,0.012468320628007252,-0.05180701116720835]\n",
            "\n",
            "Text: [life, is, is, very, very, good] => \n",
            "Vector: [-0.037827527771393456,-0.056995682418346405,-0.05543783182899157]\n",
            "\n",
            "Text: [it, is, is, too, too, cold] => \n",
            "Vector: [-0.10674821585416794,0.017834855243563652,-0.06762616833051045]\n",
            "\n"
          ],
          "name": "stdout"
        }
      ]
    },
    {
      "cell_type": "code",
      "metadata": {
        "colab": {
          "base_uri": "https://localhost:8080/"
        },
        "id": "ai7xyrRIh__V",
        "outputId": "380ecfdd-4917-408a-b25a-8b66b58418ed"
      },
      "source": [
        "# showing the synonyms and cosine similarity of the word in input data\r\n",
        "synonyms = model.findSynonyms(\"spark\", 5)   # its okay for certain words , real bad for others\r\n",
        "synonyms.show(5)"
      ],
      "execution_count": 141,
      "outputs": [
        {
          "output_type": "stream",
          "text": [
            "+-------+-------------------+\n",
            "|   word|         similarity|\n",
            "+-------+-------------------+\n",
            "|   cold|  0.952985942363739|\n",
            "|     is| 0.9410983920097351|\n",
            "|awesome| 0.8373374938964844|\n",
            "|    too| 0.6503974199295044|\n",
            "|  much.|0.49109411239624023|\n",
            "+-------+-------------------+\n",
            "\n"
          ],
          "name": "stdout"
        }
      ]
    },
    {
      "cell_type": "code",
      "metadata": {
        "colab": {
          "base_uri": "https://localhost:8080/"
        },
        "id": "ZAi1RHqciFO3",
        "outputId": "e0dd4665-5801-4d35-9a81-bb72dde0f44d"
      },
      "source": [
        "# showing the synonyms and cosine similarity of the word in input data\r\n",
        "synonyms = model.findSynonyms(\"is\", 5)   # its okay for certain words , real bad for others\r\n",
        "synonyms.show(5)"
      ],
      "execution_count": 142,
      "outputs": [
        {
          "output_type": "stream",
          "text": [
            "+-------+------------------+\n",
            "|   word|        similarity|\n",
            "+-------+------------------+\n",
            "|   cold|0.9806042313575745|\n",
            "|awesome|0.9495662450790405|\n",
            "|  spark|0.9410984516143799|\n",
            "|     it|0.5934741497039795|\n",
            "|    too|0.5830553770065308|\n",
            "+-------+------------------+\n",
            "\n"
          ],
          "name": "stdout"
        }
      ]
    },
    {
      "cell_type": "code",
      "metadata": {
        "colab": {
          "base_uri": "https://localhost:8080/"
        },
        "id": "0LaVKxGZiHbY",
        "outputId": "d9bda391-12c7-4b2a-fe57-af1195c705fd"
      },
      "source": [
        "# showing the synonyms and cosine similarity of the word in input data\r\n",
        "synonyms = model.findSynonyms(\"very\", 5)   # its okay for certain words , real bad for others\r\n",
        "synonyms.show(5)"
      ],
      "execution_count": 143,
      "outputs": [
        {
          "output_type": "stream",
          "text": [
            "+-------+------------------+\n",
            "|   word|        similarity|\n",
            "+-------+------------------+\n",
            "|     it|0.9975603222846985|\n",
            "|awesome|0.6990795731544495|\n",
            "|     is|0.5392875671386719|\n",
            "|   cold|0.4887860119342804|\n",
            "|    use| 0.372077077627182|\n",
            "+-------+------------------+\n",
            "\n"
          ],
          "name": "stdout"
        }
      ]
    },
    {
      "cell_type": "code",
      "metadata": {
        "colab": {
          "base_uri": "https://localhost:8080/"
        },
        "id": "V7PZVRsHiJ0B",
        "outputId": "58983726-3b06-4192-8f09-c638ae703f35"
      },
      "source": [
        "# showing the synonyms and cosine similarity of the word in input data\r\n",
        "synonyms = model.findSynonyms(\"awesome\", 5)   # its okay for certain words , real bad for others\r\n",
        "synonyms.show(5)"
      ],
      "execution_count": 145,
      "outputs": [
        {
          "output_type": "stream",
          "text": [
            "+-----+------------------+\n",
            "| word|        similarity|\n",
            "+-----+------------------+\n",
            "| cold|0.9626889824867249|\n",
            "|   is|0.9495663046836853|\n",
            "|spark|0.8373376131057739|\n",
            "|   it|0.7370890378952026|\n",
            "| very|0.6990796327590942|\n",
            "+-----+------------------+\n",
            "\n"
          ],
          "name": "stdout"
        }
      ]
    },
    {
      "cell_type": "code",
      "metadata": {
        "colab": {
          "base_uri": "https://localhost:8080/"
        },
        "id": "wxv8-G9DiOAC",
        "outputId": "741a8931-5960-4d77-c279-dc76508eef22"
      },
      "source": [
        "# showing the synonyms and cosine similarity of the word in input data\r\n",
        "synonyms = model.findSynonyms(\"should\", 5)   # its okay for certain words , real bad for others\r\n",
        "synonyms.show(5)"
      ],
      "execution_count": 146,
      "outputs": [
        {
          "output_type": "stream",
          "text": [
            "+--------+-------------------+\n",
            "|    word|         similarity|\n",
            "+--------+-------------------+\n",
            "|    love| 0.6148567795753479|\n",
            "|       I| 0.5274564623832703|\n",
            "|    good| 0.5179246068000793|\n",
            "|     too| 0.3981545567512512|\n",
            "|everyone|0.12000617384910583|\n",
            "+--------+-------------------+\n",
            "\n"
          ],
          "name": "stdout"
        }
      ]
    },
    {
      "cell_type": "code",
      "metadata": {
        "colab": {
          "base_uri": "https://localhost:8080/"
        },
        "id": "fRrGM2wbiTIH",
        "outputId": "00393ed5-856b-48d8-ec80-7a92c2ba89eb"
      },
      "source": [
        "# showing the synonyms and cosine similarity of the word in input data\r\n",
        "synonyms = model.findSynonyms(\"love\", 5)   # its okay for certain words , real bad for others\r\n",
        "synonyms.show(5)"
      ],
      "execution_count": 148,
      "outputs": [
        {
          "output_type": "stream",
          "text": [
            "+------+--------------------+\n",
            "|  word|          similarity|\n",
            "+------+--------------------+\n",
            "|   too|  0.8810828924179077|\n",
            "|should|  0.6148567199707031|\n",
            "| spark| 0.21434985101222992|\n",
            "|    is|  0.1555756777524948|\n",
            "|  good|0.030185656622052193|\n",
            "+------+--------------------+\n",
            "\n"
          ],
          "name": "stdout"
        }
      ]
    },
    {
      "cell_type": "code",
      "metadata": {
        "colab": {
          "base_uri": "https://localhost:8080/"
        },
        "id": "oc8dQDTNiXFp",
        "outputId": "cfcadda2-0366-4154-a170-ee00de07d669"
      },
      "source": [
        "# showing the synonyms and cosine similarity of the word in input data\r\n",
        "synonyms = model.findSynonyms(\"love\", 5)   # its okay for certain words , real bad for others\r\n",
        "synonyms.show(5)"
      ],
      "execution_count": 149,
      "outputs": [
        {
          "output_type": "stream",
          "text": [
            "+------+--------------------+\n",
            "|  word|          similarity|\n",
            "+------+--------------------+\n",
            "|   too|  0.8810828924179077|\n",
            "|should|  0.6148567199707031|\n",
            "| spark| 0.21434985101222992|\n",
            "|    is|  0.1555756777524948|\n",
            "|  good|0.030185656622052193|\n",
            "+------+--------------------+\n",
            "\n"
          ],
          "name": "stdout"
        }
      ]
    },
    {
      "cell_type": "code",
      "metadata": {
        "colab": {
          "base_uri": "https://localhost:8080/"
        },
        "id": "PUTaYk7piZG3",
        "outputId": "dd52c8c5-f0bf-4fc6-f069-03ccbc03377f"
      },
      "source": [
        "# showing the synonyms and cosine similarity of the word in input data\r\n",
        "synonyms = model.findSynonyms(\"use\", 5)   # its okay for certain words , real bad for others\r\n",
        "synonyms.show(5)"
      ],
      "execution_count": 150,
      "outputs": [
        {
          "output_type": "stream",
          "text": [
            "+--------+-------------------+\n",
            "|    word|         similarity|\n",
            "+--------+-------------------+\n",
            "|    life| 0.9672171473503113|\n",
            "|   much.|0.38150903582572937|\n",
            "|    very|  0.372077077627182|\n",
            "|everyone| 0.3341602683067322|\n",
            "|      it|0.31852108240127563|\n",
            "+--------+-------------------+\n",
            "\n"
          ],
          "name": "stdout"
        }
      ]
    },
    {
      "cell_type": "code",
      "metadata": {
        "colab": {
          "base_uri": "https://localhost:8080/"
        },
        "id": "ePTQ6nN4ibU3",
        "outputId": "303caa71-338e-4640-e3b4-50d0bd7393e3"
      },
      "source": [
        "# showing the synonyms and cosine similarity of the word in input data\r\n",
        "synonyms = model.findSynonyms(\"good\", 5)   # its okay for certain words , real bad for others\r\n",
        "synonyms.show(5)"
      ],
      "execution_count": 151,
      "outputs": [
        {
          "output_type": "stream",
          "text": [
            "+------+--------------------+\n",
            "|  word|          similarity|\n",
            "+------+--------------------+\n",
            "|     I|  0.7308744192123413|\n",
            "|should|  0.5179246068000793|\n",
            "|  life| 0.15769793093204498|\n",
            "|   use| 0.07257138937711716|\n",
            "|  love|0.030185649171471596|\n",
            "+------+--------------------+\n",
            "\n"
          ],
          "name": "stdout"
        }
      ]
    },
    {
      "cell_type": "code",
      "metadata": {
        "id": "dydhl4_KBchQ"
      },
      "source": [
        "import spacy"
      ],
      "execution_count": 60,
      "outputs": []
    },
    {
      "cell_type": "code",
      "metadata": {
        "id": "0VIS62_1CCg9"
      },
      "source": [
        "nlp = spacy.load('en', disable=['parser', 'ner'])"
      ],
      "execution_count": 61,
      "outputs": []
    },
    {
      "cell_type": "code",
      "metadata": {
        "id": "fJJ6EC9mCCXW"
      },
      "source": [
        "import pandas as pd\r\n",
        "sentence = ('Life is best, students should love coding, everyone should be coding, programming is the basic education, The temperature is below freezing')\r\n",
        "    "
      ],
      "execution_count": 84,
      "outputs": []
    },
    {
      "cell_type": "code",
      "metadata": {
        "id": "lG2svdQbDTCm"
      },
      "source": [
        "doc = nlp(sentence)"
      ],
      "execution_count": 85,
      "outputs": []
    },
    {
      "cell_type": "code",
      "metadata": {
        "colab": {
          "base_uri": "https://localhost:8080/",
          "height": 35
        },
        "id": "5CKa_unuDFK_",
        "outputId": "62f75429-b10e-4527-e304-f321e4c74c0d"
      },
      "source": [
        "\" \".join([token.lemma_ for token in doc])"
      ],
      "execution_count": 87,
      "outputs": [
        {
          "output_type": "execute_result",
          "data": {
            "application/vnd.google.colaboratory.intrinsic+json": {
              "type": "string"
            },
            "text/plain": [
              "'life be good , student should love coding , everyone should be code , programming be the basic education , the temperature be below freeze'"
            ]
          },
          "metadata": {
            "tags": []
          },
          "execution_count": 87
        }
      ]
    },
    {
      "cell_type": "code",
      "metadata": {
        "colab": {
          "base_uri": "https://localhost:8080/"
        },
        "id": "xYjz_F9GQ7z5",
        "outputId": "6087b803-0398-4371-fc5e-4c2231aa1d14"
      },
      "source": [
        "import pandas as pd\r\n",
        "pdf = pd.DataFrame({\r\n",
        "        'terms': [\r\n",
        "           ['life', 'be', 'good'] , \r\n",
        "           ['student', 'should', 'love', 'coding'] , \r\n",
        "           ['everyone', 'should', 'be', 'code'] , \r\n",
        "           ['programming', 'be', 'the', 'basic', 'education'] , \r\n",
        "           ['the', 'temperature', 'be' ,'below', 'freeze']\r\n",
        "        ]\r\n",
        "    })\r\n",
        "df = spark.createDataFrame(pdf)\r\n",
        "df.show(truncate=False)"
      ],
      "execution_count": 104,
      "outputs": [
        {
          "output_type": "stream",
          "text": [
            "+----------------------------------------+\n",
            "|terms                                   |\n",
            "+----------------------------------------+\n",
            "|[life, be, good]                        |\n",
            "|[student, should, love, coding]         |\n",
            "|[everyone, should, be, code]            |\n",
            "|[programming, be, the, basic, education]|\n",
            "|[the, temperature, be, below, freeze]   |\n",
            "+----------------------------------------+\n",
            "\n"
          ],
          "name": "stdout"
        }
      ]
    },
    {
      "cell_type": "code",
      "metadata": {
        "id": "NvqcBBrXSG_m"
      },
      "source": [
        "from pyspark.ml.feature import CountVectorizer\r\n",
        "from pyspark.ml import Pipeline\r\n",
        "\r\n",
        "countvectorizer = CountVectorizer(minTF=1.0, minDF=1.0, vocabSize=20, \r\n",
        "                                  inputCol='terms', outputCol='features(vocabSize), [index], [term frequency]')\r\n",
        "stages = [countvectorizer]\r\n",
        "pipeline = Pipeline(stages=stages)"
      ],
      "execution_count": 105,
      "outputs": []
    },
    {
      "cell_type": "code",
      "metadata": {
        "colab": {
          "base_uri": "https://localhost:8080/"
        },
        "id": "J5SC2cqLSVcz",
        "outputId": "9c84a9f2-9d13-4cd8-ca1e-4a99039a0145"
      },
      "source": [
        "pipeline.fit(df).transform(df).show(truncate=False)"
      ],
      "execution_count": 106,
      "outputs": [
        {
          "output_type": "stream",
          "text": [
            "+----------------------------------------+----------------------------------------------+\n",
            "|terms                                   |features(vocabSize), [index], [term frequency]|\n",
            "+----------------------------------------+----------------------------------------------+\n",
            "|[life, be, good]                        |(16,[0,6,14],[1.0,1.0,1.0])                   |\n",
            "|[student, should, love, coding]         |(16,[2,4,5,12],[1.0,1.0,1.0,1.0])             |\n",
            "|[everyone, should, be, code]            |(16,[0,2,10,13],[1.0,1.0,1.0,1.0])            |\n",
            "|[programming, be, the, basic, education]|(16,[0,1,3,7,15],[1.0,1.0,1.0,1.0,1.0])       |\n",
            "|[the, temperature, be, below, freeze]   |(16,[0,1,8,9,11],[1.0,1.0,1.0,1.0,1.0])       |\n",
            "+----------------------------------------+----------------------------------------------+\n",
            "\n"
          ],
          "name": "stdout"
        }
      ]
    },
    {
      "cell_type": "code",
      "metadata": {
        "colab": {
          "base_uri": "https://localhost:8080/"
        },
        "id": "6Ezvf58FSuU8",
        "outputId": "ed497690-dc1c-41cd-937f-e373a1d409fa"
      },
      "source": [
        "from pyspark.sql.types import StringType\r\n",
        "df_vocab = df.select('terms').rdd.\\\r\n",
        "            flatMap(lambda x: x[0]).\\\r\n",
        "            toDF(schema=StringType()).toDF('terms')\r\n",
        "df_vocab.show()"
      ],
      "execution_count": 107,
      "outputs": [
        {
          "output_type": "stream",
          "text": [
            "+-----------+\n",
            "|      terms|\n",
            "+-----------+\n",
            "|       life|\n",
            "|         be|\n",
            "|       good|\n",
            "|    student|\n",
            "|     should|\n",
            "|       love|\n",
            "|     coding|\n",
            "|   everyone|\n",
            "|     should|\n",
            "|         be|\n",
            "|       code|\n",
            "|programming|\n",
            "|         be|\n",
            "|        the|\n",
            "|      basic|\n",
            "|  education|\n",
            "|        the|\n",
            "|temperature|\n",
            "|         be|\n",
            "|      below|\n",
            "+-----------+\n",
            "only showing top 20 rows\n",
            "\n"
          ],
          "name": "stdout"
        }
      ]
    },
    {
      "cell_type": "code",
      "metadata": {
        "colab": {
          "base_uri": "https://localhost:8080/"
        },
        "id": "09nnYGNeTU15",
        "outputId": "7ae670b1-95e7-4154-edb0-8824b0307323"
      },
      "source": [
        "vocab_freq = df_vocab.rdd.countByValue()\r\n",
        "pdf = pd.DataFrame({\r\n",
        "        'term': list(vocab_freq.keys()),\r\n",
        "        'frequency': list(vocab_freq.values())\r\n",
        "    })\r\n",
        "pdf\r\n",
        "tf = spark.createDataFrame(pdf).orderBy('frequency', ascending=False)\r\n",
        "tf.show()"
      ],
      "execution_count": 108,
      "outputs": [
        {
          "output_type": "stream",
          "text": [
            "+-------------+---------+\n",
            "|         term|frequency|\n",
            "+-------------+---------+\n",
            "|         [be]|        4|\n",
            "|        [the]|        2|\n",
            "|     [should]|        2|\n",
            "|       [life]|        1|\n",
            "|       [good]|        1|\n",
            "|       [love]|        1|\n",
            "|   [everyone]|        1|\n",
            "|    [student]|        1|\n",
            "|     [freeze]|        1|\n",
            "|     [coding]|        1|\n",
            "|       [code]|        1|\n",
            "|      [basic]|        1|\n",
            "|[programming]|        1|\n",
            "|  [education]|        1|\n",
            "|[temperature]|        1|\n",
            "|      [below]|        1|\n",
            "+-------------+---------+\n",
            "\n"
          ],
          "name": "stdout"
        }
      ]
    },
    {
      "cell_type": "code",
      "metadata": {
        "id": "m-H29uHsi_B1"
      },
      "source": [
        "spark5 = SparkSession.builder.appName(\"Word2Vec Example\").getOrCreate()"
      ],
      "execution_count": 154,
      "outputs": []
    },
    {
      "cell_type": "code",
      "metadata": {
        "id": "RDcDky1zikEW"
      },
      "source": [
        "# Input data: Each row is a bag of words from a sentence or document.\r\n",
        "documentDF = spark5.createDataFrame([\r\n",
        "    (\"Life is best\".split(\" \"), ),\r\n",
        "    (\"students should love coding\".split(\" \"), ),\r\n",
        "    (\"everyone should be coding\".split(\" \"), ),\r\n",
        "    (\" programming is the basic education\".split(\" \"), ),\r\n",
        "    (\"The temperature is below freezing\".split(\" \"), )\r\n",
        "], [\"text\"])"
      ],
      "execution_count": 155,
      "outputs": []
    },
    {
      "cell_type": "code",
      "metadata": {
        "id": "1mh7jo9pik-k"
      },
      "source": [
        "# Learn a mapping from words to Vectors.\r\n",
        "word2Vec = Word2Vec(vectorSize=3, minCount=0, inputCol=\"text\", outputCol=\"result\")\r\n",
        "model = word2Vec.fit(documentDF)\r\n",
        "result = model.transform(documentDF)"
      ],
      "execution_count": 156,
      "outputs": []
    },
    {
      "cell_type": "code",
      "metadata": {
        "colab": {
          "base_uri": "https://localhost:8080/"
        },
        "id": "YkcmSLgPik8a",
        "outputId": "c8fed1a4-7af6-415a-9fe9-c7c114759370"
      },
      "source": [
        "for row in result.collect():\r\n",
        "    text, vector = row\r\n",
        "    #printing the results\r\n",
        "    print(\"Text: [%s] => \\nVector: %s\\n\" % (\", \".join(text), str(vector)))"
      ],
      "execution_count": 157,
      "outputs": [
        {
          "output_type": "stream",
          "text": [
            "Text: [Life, is, best] => \n",
            "Vector: [-0.11419872442881265,0.006602279841899872,-0.06755329544345537]\n",
            "\n",
            "Text: [students, should, love, coding] => \n",
            "Vector: [-0.04383242875337601,-0.029088133946061134,-0.03560134582221508]\n",
            "\n",
            "Text: [everyone, should, be, coding] => \n",
            "Vector: [-0.0031382720917463303,-0.058355418499559164,0.015217570587992668]\n",
            "\n",
            "Text: [, programming, is, the, basic, education] => \n",
            "Vector: [-0.00033767816300193465,0.011978995171375573,-0.09304226872821648]\n",
            "\n",
            "Text: [The, temperature, is, below, freezing] => \n",
            "Vector: [0.023674151301383974,0.06494050472974777,-0.11245893500745296]\n",
            "\n"
          ],
          "name": "stdout"
        }
      ]
    },
    {
      "cell_type": "code",
      "metadata": {
        "colab": {
          "base_uri": "https://localhost:8080/"
        },
        "id": "g7OF-vxGik1E",
        "outputId": "62c52a84-62d8-4915-82af-29218b5fb0b8"
      },
      "source": [
        "# showing the synonyms and cosine similarity of the word in input data\r\n",
        "synonyms = model.findSynonyms(\"be\", 5)   # its okay for certain words , real bad for others\r\n",
        "synonyms.show(5)"
      ],
      "execution_count": 158,
      "outputs": [
        {
          "output_type": "stream",
          "text": [
            "+--------+-------------------+\n",
            "|    word|         similarity|\n",
            "+--------+-------------------+\n",
            "|everyone| 0.8954975008964539|\n",
            "|     The| 0.7332881093025208|\n",
            "|        |  0.474439412355423|\n",
            "|students|0.16039660573005676|\n",
            "|   basic|0.03834228962659836|\n",
            "+--------+-------------------+\n",
            "\n"
          ],
          "name": "stdout"
        }
      ]
    },
    {
      "cell_type": "code",
      "metadata": {
        "colab": {
          "base_uri": "https://localhost:8080/"
        },
        "id": "hOnr5Cw0ikpe",
        "outputId": "4a03153b-0cf1-4d6b-9f73-e9bf76d7c5bc"
      },
      "source": [
        "# showing the synonyms and cosine similarity of the word in input data\r\n",
        "synonyms = model.findSynonyms(\"should\", 5)   # its okay for certain words , real bad for others\r\n",
        "synonyms.show(5)"
      ],
      "execution_count": 159,
      "outputs": [
        {
          "output_type": "stream",
          "text": [
            "+-----------+-------------------+\n",
            "|       word|         similarity|\n",
            "+-----------+-------------------+\n",
            "|       Life| 0.9959954619407654|\n",
            "|        the| 0.7121812701225281|\n",
            "|  education| 0.6875379085540771|\n",
            "|     coding| 0.5179629325866699|\n",
            "|temperature|0.47193169593811035|\n",
            "+-----------+-------------------+\n",
            "\n"
          ],
          "name": "stdout"
        }
      ]
    },
    {
      "cell_type": "code",
      "metadata": {
        "colab": {
          "base_uri": "https://localhost:8080/"
        },
        "id": "KGifkTZkjSGO",
        "outputId": "07015aff-db75-4b33-85ff-8e0969b1fed6"
      },
      "source": [
        "# showing the synonyms and cosine similarity of the word in input data\r\n",
        "synonyms = model.findSynonyms(\"Life\", 5)   # its okay for certain words , real bad for others\r\n",
        "synonyms.show(5)"
      ],
      "execution_count": 161,
      "outputs": [
        {
          "output_type": "stream",
          "text": [
            "+-----------+------------------+\n",
            "|       word|        similarity|\n",
            "+-----------+------------------+\n",
            "|     should|0.9959953427314758|\n",
            "|  education|0.7390859723091125|\n",
            "|        the|0.7085385322570801|\n",
            "|     coding|0.5897789001464844|\n",
            "|temperature|0.5397940874099731|\n",
            "+-----------+------------------+\n",
            "\n"
          ],
          "name": "stdout"
        }
      ]
    },
    {
      "cell_type": "code",
      "metadata": {
        "colab": {
          "base_uri": "https://localhost:8080/"
        },
        "id": "O7q68sRFjZ2j",
        "outputId": "a3d26d13-d710-4b0f-bafa-873b8ac15d66"
      },
      "source": [
        "# showing the synonyms and cosine similarity of the word in input data\r\n",
        "synonyms = model.findSynonyms(\"everyone\", 5)   # its okay for certain words , real bad for others\r\n",
        "synonyms.show(5)"
      ],
      "execution_count": 165,
      "outputs": [
        {
          "output_type": "stream",
          "text": [
            "+--------+-------------------+\n",
            "|    word|         similarity|\n",
            "+--------+-------------------+\n",
            "|      be| 0.8954974412918091|\n",
            "|     The| 0.5843537449836731|\n",
            "|students|0.45005717873573303|\n",
            "|   basic| 0.4135923981666565|\n",
            "|        |0.03310742601752281|\n",
            "+--------+-------------------+\n",
            "\n"
          ],
          "name": "stdout"
        }
      ]
    },
    {
      "cell_type": "code",
      "metadata": {
        "colab": {
          "base_uri": "https://localhost:8080/"
        },
        "id": "sXyZFn4Kji8h",
        "outputId": "c0df65c6-2bb4-4e9f-d44f-0da2d0ce80b0"
      },
      "source": [
        "synonyms = model.findSynonyms(\"love\", 5)   # its okay for certain words , real bad for others\r\n",
        "synonyms.show(5)"
      ],
      "execution_count": 166,
      "outputs": [
        {
          "output_type": "stream",
          "text": [
            "+------+-------------------+\n",
            "|  word|         similarity|\n",
            "+------+-------------------+\n",
            "|  best|  0.882599413394928|\n",
            "|      | 0.6451829075813293|\n",
            "|    is|0.21804609894752502|\n",
            "|coding|0.16145852208137512|\n",
            "|    be|0.03328623250126839|\n",
            "+------+-------------------+\n",
            "\n"
          ],
          "name": "stdout"
        }
      ]
    },
    {
      "cell_type": "code",
      "metadata": {
        "colab": {
          "base_uri": "https://localhost:8080/"
        },
        "id": "c5AqtvJcjpYN",
        "outputId": "53c6c598-223b-418e-b5aa-dc591dc6a32b"
      },
      "source": [
        "synonyms = model.findSynonyms(\"coding\", 5)   # its okay for certain words , real bad for others\r\n",
        "synonyms.show(5)"
      ],
      "execution_count": 170,
      "outputs": [
        {
          "output_type": "stream",
          "text": [
            "+-----------+------------------+\n",
            "|       word|        similarity|\n",
            "+-----------+------------------+\n",
            "|temperature|0.9798160195350647|\n",
            "|  education|0.9458795785903931|\n",
            "|         is|0.9411322474479675|\n",
            "|       Life|0.5897789001464844|\n",
            "|       best|0.5811722278594971|\n",
            "+-----------+------------------+\n",
            "\n"
          ],
          "name": "stdout"
        }
      ]
    },
    {
      "cell_type": "code",
      "metadata": {
        "colab": {
          "base_uri": "https://localhost:8080/"
        },
        "id": "sjQHhHhEj31E",
        "outputId": "6883b5a6-72ad-4293-a612-23128c7c7da7"
      },
      "source": [
        "synonyms = model.findSynonyms(\"basic\", 2)   # its okay for certain words , real bad for others\r\n",
        "synonyms.show(5)"
      ],
      "execution_count": 174,
      "outputs": [
        {
          "output_type": "stream",
          "text": [
            "+--------+------------------+\n",
            "|    word|        similarity|\n",
            "+--------+------------------+\n",
            "|students|0.9619790315628052|\n",
            "|     the|0.7168983817100525|\n",
            "+--------+------------------+\n",
            "\n"
          ],
          "name": "stdout"
        }
      ]
    },
    {
      "cell_type": "code",
      "metadata": {
        "colab": {
          "base_uri": "https://localhost:8080/"
        },
        "id": "ingRRdwqkF90",
        "outputId": "2fe45326-90f9-4c24-97f3-945a4ad72643"
      },
      "source": [
        "synonyms = model.findSynonyms(\"programming\", 2)   # its okay for certain words , real bad for others\r\n",
        "synonyms.show(5)"
      ],
      "execution_count": 175,
      "outputs": [
        {
          "output_type": "stream",
          "text": [
            "+--------+------------------+\n",
            "|    word|        similarity|\n",
            "+--------+------------------+\n",
            "|   below|0.9872907400131226|\n",
            "|freezing|0.8758460879325867|\n",
            "+--------+------------------+\n",
            "\n"
          ],
          "name": "stdout"
        }
      ]
    }
  ]
}